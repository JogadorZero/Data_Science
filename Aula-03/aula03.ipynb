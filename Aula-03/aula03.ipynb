{
  "nbformat": 4,
  "nbformat_minor": 0,
  "metadata": {
    "colab": {
      "provenance": []
    },
    "kernelspec": {
      "name": "python3",
      "display_name": "Python 3"
    },
    "language_info": {
      "name": "python"
    }
  },
  "cells": [
    {
      "cell_type": "markdown",
      "source": [
        "Aula 03 - Estatística\n"
      ],
      "metadata": {
        "id": "X0miZwNrHMI3"
      }
    },
    {
      "cell_type": "code",
      "execution_count": 1,
      "metadata": {
        "id": "ru3mhY6kHFYr"
      },
      "outputs": [],
      "source": [
        "#Aula 3 - Estatística Aplicada\n",
        "\n",
        "# Importação das bibliotecas\n",
        "import numpy as np\n",
        "from scipy import stats\n",
        "import statistics\n",
        "import matplotlib.pyplot as plt"
      ]
    },
    {
      "cell_type": "code",
      "source": [
        "# Exemplo de pequenas amostras\n",
        "x=random.choices(range(1,7),k=6)\n",
        "print(np.mean(x))"
      ],
      "metadata": {
        "id": "8fBa3p1RHnBd"
      },
      "execution_count": null,
      "outputs": []
    },
    {
      "cell_type": "code",
      "source": [
        "####   PARTE 1 -\n",
        "# exemplo salario jogadores de futebol\n",
        "salarios = [40,18,12,250,30,140,300,800,40]\n",
        "\n",
        "\n",
        "#encontrar a media\n",
        "\n",
        "media = np.mean(salarios)\n",
        "print('media',media)"
      ],
      "metadata": {
        "id": "g0pMhLA-HW7h"
      },
      "execution_count": null,
      "outputs": []
    },
    {
      "cell_type": "code",
      "source": [
        "#encontrar a mediana\n",
        "\n",
        "mediana = np.median(salarios)\n",
        "print('mediana',mediana)"
      ],
      "metadata": {
        "id": "dxMQd7fkHWzp"
      },
      "execution_count": null,
      "outputs": []
    },
    {
      "cell_type": "code",
      "source": [
        "#encontrar a moda\n",
        "\n",
        "moda = statistics.mode(salarios)\n",
        "print('moda',moda)"
      ],
      "metadata": {
        "id": "K7g7tG1tHWpe"
      },
      "execution_count": null,
      "outputs": []
    },
    {
      "cell_type": "code",
      "source": [],
      "metadata": {
        "id": "CTCxe7fRHWb1"
      },
      "execution_count": null,
      "outputs": []
    },
    {
      "cell_type": "code",
      "source": [
        "############# Parte 2\n",
        "\n",
        "#Encontrar a variancia\n",
        "\n",
        "dados=[]\n",
        "\n",
        "variancia =  statistics.pvariance(salarios)\n",
        "print('variancia',variancia)"
      ],
      "metadata": {
        "id": "Fz8nDuCqJCV4"
      },
      "execution_count": null,
      "outputs": []
    },
    {
      "cell_type": "code",
      "source": [
        "#Encontrar o desvio padrão\n",
        "\n",
        "desviopadrao = np.std(salarios, ddof = 1)\n",
        "print('desvio padrao',desviopadrao)"
      ],
      "metadata": {
        "id": "Q0MZfmQ4JJ7R"
      },
      "execution_count": null,
      "outputs": []
    }
  ]
}